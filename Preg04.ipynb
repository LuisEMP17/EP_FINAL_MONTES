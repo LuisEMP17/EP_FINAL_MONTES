{
 "cells": [
  {
   "cell_type": "code",
   "execution_count": 1,
   "id": "f8fbc739",
   "metadata": {},
   "outputs": [
    {
     "name": "stdout",
     "output_type": "stream",
     "text": [
      "Ganancia:  2000\n",
      "Donación:  160.0\n"
     ]
    }
   ],
   "source": [
    "ganancia = 2000\n",
    "if 0 <= ganancia <= 1000:\n",
    "    donacion = 0.05 * ganancia\n",
    "if 1000 < ganancia <= 1500:\n",
    "    donacion = 0.07 * ganancia\n",
    "if 1500 < ganancia <= 2000:\n",
    "    donacion = 0.08 * ganancia\n",
    "if 2000 < ganancia <= 5000:\n",
    "    donacion = 0.1 * ganancia\n",
    "if 5000 < ganancia:\n",
    "    donacion = 0.15 * ganancia\n",
    "print(\"Ganancia: \", ganancia)\n",
    "print(\"Donación: \", donacion)"
   ]
  },
  {
   "cell_type": "code",
   "execution_count": 3,
   "id": "9777fac0",
   "metadata": {},
   "outputs": [
    {
     "name": "stdout",
     "output_type": "stream",
     "text": [
      "Ganancia:  1300\n",
      "Donación:  91.00000000000001\n"
     ]
    }
   ],
   "source": []
  },
  {
   "cell_type": "code",
   "execution_count": null,
   "id": "7f76c7b7",
   "metadata": {},
   "outputs": [],
   "source": []
  }
 ],
 "metadata": {
  "kernelspec": {
   "display_name": "Python 3 (ipykernel)",
   "language": "python",
   "name": "python3"
  },
  "language_info": {
   "codemirror_mode": {
    "name": "ipython",
    "version": 3
   },
   "file_extension": ".py",
   "mimetype": "text/x-python",
   "name": "python",
   "nbconvert_exporter": "python",
   "pygments_lexer": "ipython3",
   "version": "3.9.12"
  }
 },
 "nbformat": 4,
 "nbformat_minor": 5
}
